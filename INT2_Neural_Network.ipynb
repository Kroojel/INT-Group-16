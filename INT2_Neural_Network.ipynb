{
  "nbformat": 4,
  "nbformat_minor": 0,
  "metadata": {
    "colab": {
      "name": "INT2_Neural_Network.ipynb",
      "provenance": [],
      "collapsed_sections": [],
      "include_colab_link": true
    },
    "kernelspec": {
      "name": "python3",
      "display_name": "Python 3"
    },
    "language_info": {
      "name": "python"
    }
  },
  "cells": [
    {
      "cell_type": "markdown",
      "metadata": {
        "id": "view-in-github",
        "colab_type": "text"
      },
      "source": [
        "<a href=\"https://colab.research.google.com/github/Kroojel/INT-Group-16/blob/main/INT2_Neural_Network.ipynb\" target=\"_parent\"><img src=\"https://colab.research.google.com/assets/colab-badge.svg\" alt=\"Open In Colab\"/></a>"
      ]
    },
    {
      "cell_type": "markdown",
      "source": [
        "First we need to import the classes"
      ],
      "metadata": {
        "id": "HiAVGPtWYut6"
      }
    },
    {
      "cell_type": "code",
      "execution_count": 2,
      "metadata": {
        "id": "jIsNMGekXoTo"
      },
      "outputs": [],
      "source": [
        "# Pytorch Imports\n",
        "import torch\n",
        "import torch.nn as nn\n",
        "import torch.nn.functional as F\n",
        "import torch.optim as optim\n",
        "import torchvision\n",
        "\n",
        "# Data transformation imports\n",
        "from torchvision import transforms\n",
        "\n",
        "# General Libraries \n",
        "import matplotlib.pyplot as plt\n",
        "import numpy as np\n",
        "\n",
        "# Loss fucntion and optimiser imports\n",
        "import torch.optim"
      ]
    },
    {
      "cell_type": "markdown",
      "source": [
        "Preparing cuda (if available)"
      ],
      "metadata": {
        "id": "p6EV94RaHPt9"
      }
    },
    {
      "cell_type": "code",
      "source": [
        "device = 'cuda' if torch.cuda.is_available() else 'cpu'\n",
        "print(device)"
      ],
      "metadata": {
        "id": "NqAMBZeoHPKw"
      },
      "execution_count": null,
      "outputs": []
    },
    {
      "cell_type": "markdown",
      "source": [
        "Loading the dataset and the ten labels \"classes\" relating to the ten classifications"
      ],
      "metadata": {
        "id": "5gUVIPaha5RA"
      }
    },
    {
      "cell_type": "code",
      "source": [
        "batchSize = 128\n",
        "\n",
        "# Taining set:\n",
        "\n",
        "trainTransform = transforms.Compose(\n",
        "    [\n",
        "     transforms.ToTensor(),                                 # Turns image into tensor\n",
        "     transforms.RandomAdjustSharpness(2, 0.5),              # 50% chance of increasing sharpness\n",
        "     transforms.RandomAdjustSharpness(0, 0.5),              # 50% chance of increasing blur\n",
        "     transforms.RandomAutocontrast(0.5),                    # 50% chance of increasing contrast\n",
        "     transforms.RandomHorizontalFlip(0.5),                  # 50% chance of flipping the image horizontally\n",
        "     transforms.Normalize((0.5, 0.5, 0.5), (0.5, 0.5, 0.5)) # Normalising the tensor\n",
        "    ]\n",
        ")\n",
        "\n",
        "trainSet = torchvision.datasets.CIFAR10(root='./data', train=True, download=True, transform=trainTransform)\n",
        "\n",
        "trainLoader = torch.utils.data.DataLoader(trainSet, batch_size=batchSize, shuffle=True, num_workers=2)\n",
        "\n",
        "# Testing set:\n",
        "\n",
        "testTransform = transforms.Compose(\n",
        "    [\n",
        "     transforms.ToTensor(),                                 # Turns image into tensor\n",
        "     transforms.Normalize((0.5, 0.5, 0.5), (0.5, 0.5, 0.5)) # Normalising the tensor\n",
        "    ]\n",
        ")\n",
        "\n",
        "testSet = torchvision.datasets.CIFAR10(root='./data', train=False, download=True, transform=testTransform)\n",
        "\n",
        "testLoader = torch.utils.data.DataLoader(testSet, batch_size=batchSize, shuffle=False, num_workers=2)\n",
        "\n",
        "classes = ('plane', 'car', 'bird', 'cat', 'deer', 'dog', 'frog', 'horse', 'ship', 'truck')"
      ],
      "metadata": {
        "id": "YbbVxwMTZq11",
        "colab": {
          "base_uri": "https://localhost:8080/",
          "height": 356
        },
        "outputId": "f1c81992-8709-45e7-a25c-397cedda78d5"
      },
      "execution_count": 5,
      "outputs": [
        {
          "output_type": "error",
          "ename": "RuntimeError",
          "evalue": "ignored",
          "traceback": [
            "\u001b[0;31m---------------------------------------------------------------------------\u001b[0m",
            "\u001b[0;31mRuntimeError\u001b[0m                              Traceback (most recent call last)",
            "\u001b[0;32m<ipython-input-5-84461612a4b4>\u001b[0m in \u001b[0;36m<module>\u001b[0;34m()\u001b[0m\n\u001b[1;32m     14\u001b[0m )\n\u001b[1;32m     15\u001b[0m \u001b[0;34m\u001b[0m\u001b[0m\n\u001b[0;32m---> 16\u001b[0;31m \u001b[0mtrainSet\u001b[0m \u001b[0;34m=\u001b[0m \u001b[0mtorchvision\u001b[0m\u001b[0;34m.\u001b[0m\u001b[0mdatasets\u001b[0m\u001b[0;34m.\u001b[0m\u001b[0mCIFAR10\u001b[0m\u001b[0;34m(\u001b[0m\u001b[0mroot\u001b[0m\u001b[0;34m=\u001b[0m\u001b[0;34m'./data'\u001b[0m\u001b[0;34m,\u001b[0m \u001b[0mtrain\u001b[0m\u001b[0;34m=\u001b[0m\u001b[0;32mTrue\u001b[0m\u001b[0;34m,\u001b[0m \u001b[0mdownload\u001b[0m\u001b[0;34m=\u001b[0m\u001b[0;32mFalse\u001b[0m\u001b[0;34m,\u001b[0m \u001b[0mtransform\u001b[0m\u001b[0;34m=\u001b[0m\u001b[0mtrainTransform\u001b[0m\u001b[0;34m)\u001b[0m\u001b[0;34m\u001b[0m\u001b[0;34m\u001b[0m\u001b[0m\n\u001b[0m\u001b[1;32m     17\u001b[0m \u001b[0;34m\u001b[0m\u001b[0m\n\u001b[1;32m     18\u001b[0m \u001b[0mtrainLoader\u001b[0m \u001b[0;34m=\u001b[0m \u001b[0mtorch\u001b[0m\u001b[0;34m.\u001b[0m\u001b[0mutils\u001b[0m\u001b[0;34m.\u001b[0m\u001b[0mdata\u001b[0m\u001b[0;34m.\u001b[0m\u001b[0mDataLoader\u001b[0m\u001b[0;34m(\u001b[0m\u001b[0mtrainSet\u001b[0m\u001b[0;34m,\u001b[0m \u001b[0mbatch_size\u001b[0m\u001b[0;34m=\u001b[0m\u001b[0mbatchSize\u001b[0m\u001b[0;34m,\u001b[0m \u001b[0mshuffle\u001b[0m\u001b[0;34m=\u001b[0m\u001b[0;32mTrue\u001b[0m\u001b[0;34m,\u001b[0m \u001b[0mnum_workers\u001b[0m\u001b[0;34m=\u001b[0m\u001b[0;36m2\u001b[0m\u001b[0;34m)\u001b[0m\u001b[0;34m\u001b[0m\u001b[0;34m\u001b[0m\u001b[0m\n",
            "\u001b[0;32m/usr/local/lib/python3.7/dist-packages/torchvision/datasets/cifar.py\u001b[0m in \u001b[0;36m__init__\u001b[0;34m(self, root, train, transform, target_transform, download)\u001b[0m\n\u001b[1;32m     66\u001b[0m \u001b[0;34m\u001b[0m\u001b[0m\n\u001b[1;32m     67\u001b[0m         \u001b[0;32mif\u001b[0m \u001b[0;32mnot\u001b[0m \u001b[0mself\u001b[0m\u001b[0;34m.\u001b[0m\u001b[0m_check_integrity\u001b[0m\u001b[0;34m(\u001b[0m\u001b[0;34m)\u001b[0m\u001b[0;34m:\u001b[0m\u001b[0;34m\u001b[0m\u001b[0;34m\u001b[0m\u001b[0m\n\u001b[0;32m---> 68\u001b[0;31m             \u001b[0;32mraise\u001b[0m \u001b[0mRuntimeError\u001b[0m\u001b[0;34m(\u001b[0m\u001b[0;34m\"Dataset not found or corrupted. You can use download=True to download it\"\u001b[0m\u001b[0;34m)\u001b[0m\u001b[0;34m\u001b[0m\u001b[0;34m\u001b[0m\u001b[0m\n\u001b[0m\u001b[1;32m     69\u001b[0m \u001b[0;34m\u001b[0m\u001b[0m\n\u001b[1;32m     70\u001b[0m         \u001b[0;32mif\u001b[0m \u001b[0mself\u001b[0m\u001b[0;34m.\u001b[0m\u001b[0mtrain\u001b[0m\u001b[0;34m:\u001b[0m\u001b[0;34m\u001b[0m\u001b[0;34m\u001b[0m\u001b[0m\n",
            "\u001b[0;31mRuntimeError\u001b[0m: Dataset not found or corrupted. You can use download=True to download it"
          ]
        }
      ]
    },
    {
      "cell_type": "markdown",
      "source": [
        "Defining neural network shape:"
      ],
      "metadata": {
        "id": "ssBeeoJBj7Ra"
      }
    },
    {
      "cell_type": "code",
      "source": [
        "class Net(nn.Module):\n",
        "    def __init__(self):\n",
        "        super(Net, self).__init__()\n",
        "        \n",
        "        self.prep1 = nn.Sequential(\n",
        "            nn.Conv2d(in_channels=3, out_channels=64, kernel_size=3, stride=1),\n",
        "        )\n",
        "\n",
        "\n",
        "        self.blockPrep1 = nn.Sequential(\n",
        "            nn.BatchNorm2d(64),\n",
        "            nn.ReLU(True),\n",
        "        )\n",
        "\n",
        "        self.branch1 = nn.Sequential(\n",
        "            nn.Conv2d(in_channels=64, out_channels=64, kernel_size=3, stride=1, padding=1),\n",
        "            nn.BatchNorm2d(64),\n",
        "            nn.ReLU(True),\n",
        "            nn.Conv2d(in_channels=64, out_channels=64, kernel_size=3, stride=1, padding=1),\n",
        "        )\n",
        "\n",
        "\n",
        "        self.blockPrep2 = nn.Sequential(\n",
        "            nn.BatchNorm2d(64),\n",
        "            nn.ReLU(True),\n",
        "        )\n",
        "\n",
        "        self.branch2 = nn.Sequential(\n",
        "            nn.Conv2d(in_channels=64, out_channels=128, kernel_size=3, stride=1, padding=1),\n",
        "            nn.BatchNorm2d(128),\n",
        "            nn.ReLU(True),\n",
        "            nn.Conv2d(in_channels=128, out_channels=128, kernel_size=3, stride=1, padding=1),\n",
        "        )\n",
        "\n",
        "        self.conv2 = nn.Conv2d(in_channels=64, out_channels=128, kernel_size=3, stride=1, padding=1)\n",
        "\n",
        "\n",
        "        self.blockPrep3 = nn.Sequential(\n",
        "            nn.BatchNorm2d(128),\n",
        "            nn.ReLU(True),\n",
        "        )\n",
        "\n",
        "        self.branch3 = nn.Sequential(\n",
        "            nn.Conv2d(in_channels=128, out_channels=128, kernel_size=3, stride=1, padding=1),\n",
        "            nn.BatchNorm2d(128),\n",
        "            nn.ReLU(True),\n",
        "            nn.Conv2d(in_channels=128, out_channels=128, kernel_size=3, stride=1, padding=1),\n",
        "        )\n",
        "\n",
        "\n",
        "        self.blockPrep4 = nn.Sequential(\n",
        "            nn.BatchNorm2d(128),\n",
        "            nn.ReLU(True),\n",
        "        )\n",
        "\n",
        "        self.branch4 = nn.Sequential(\n",
        "            nn.Conv2d(in_channels=128, out_channels=256, kernel_size=3, stride=1, padding=1),\n",
        "            nn.BatchNorm2d(256),\n",
        "            nn.ReLU(True),\n",
        "            nn.Conv2d(in_channels=256, out_channels=256, kernel_size=3, stride=1, padding=1),\n",
        "        )\n",
        "        \n",
        "        self.conv4 = nn.Conv2d(in_channels=128, out_channels=256, kernel_size=3, stride=1, padding=1)\n",
        "\n",
        "\n",
        "        self.blockPrep5 = nn.Sequential(\n",
        "            nn.BatchNorm2d(256),\n",
        "            nn.ReLU(True),\n",
        "        )\n",
        "\n",
        "        self.branch5 = nn.Sequential(\n",
        "            nn.Conv2d(in_channels=256, out_channels=256, kernel_size=3, stride=1, padding=1),\n",
        "            nn.BatchNorm2d(256),\n",
        "            nn.ReLU(True),\n",
        "            nn.Conv2d(in_channels=256, out_channels=256, kernel_size=3, stride=1, padding=1),\n",
        "        )\n",
        "        \n",
        "        self.conv5 = nn.Conv2d(in_channels=256, out_channels=256, kernel_size=3, stride=1, padding=1)\n",
        "\n",
        "\n",
        "        self.outLayer = nn.Sequential(\n",
        "            nn.Linear(25088, 512),\n",
        "\n",
        "        )\n",
        "\n",
        "    def forward(self, input):\n",
        "        input= input.to(device) # May remove after testing\n",
        "\n",
        "          # 3 -> 64\n",
        "        # Preperation\n",
        "        output = self.prep1(input)\n",
        "\n",
        "          # 64 -> 64\n",
        "\n",
        "        # Layer 1\n",
        "        output = self.blockPrep1(output)\n",
        "        output = self.branch1(output) + output\n",
        "\n",
        "        output = self.blockPrep1(output)\n",
        "        output = self.branch1(output) + output\n",
        "        \n",
        "\n",
        "          # 64 -> 128\n",
        "\n",
        "        # Layer 2\n",
        "        output = self.blockPrep2(output)\n",
        "        output = self.branch2(output) + self.conv2(output)\n",
        "        \n",
        "          # 128 -> 128\n",
        "\n",
        "        output = self.blockPrep3(output)\n",
        "        output = self.branch3(output) + output\n",
        "        \n",
        "          # 128 -> 256\n",
        "\n",
        "        # Layer 3\n",
        "        output = self.blockPrep4(output)\n",
        "        output = self.branch4(output) + self.conv4(output)\n",
        "        \n",
        "          # 256 -> 256\n",
        "\n",
        "        output = self.blockPrep5(output)\n",
        "        output = self.branch5(output) + output\n",
        "\n",
        "        # Layer 4\n",
        "        output = self.blockPrep5(output)\n",
        "        output = self.branch5(output) + self.conv5(output)\n",
        "\n",
        "        output = self.blockPrep5(output)\n",
        "        output = self.branch5(output) + output\n",
        "\n",
        "        # Output\n",
        "        outputSplit1 = nn.AvgPool2d(kernel_size=4, stride=4, padding=0, ceil_mode=False, count_include_pad=True)(output)\n",
        "        outputSplit2 = nn.MaxPool2d(kernel_size=4, stride=4, padding=0, dilation=1, return_indices=False, ceil_mode=False)(output)\n",
        "        output = torch.cat( ( outputSplit1, outputSplit2 ), 1 )\n",
        "\n",
        "        output = output.view(-1, 25088) # flattens output\n",
        "\n",
        "        output = self.outLayer(output)\n",
        "\n",
        "        return output \n",
        "\n",
        "\n",
        "net = Net()"
      ],
      "metadata": {
        "id": "Hr2CgMWwj5Oo"
      },
      "execution_count": 4,
      "outputs": []
    },
    {
      "cell_type": "markdown",
      "source": [
        "Define optimiser and loss function"
      ],
      "metadata": {
        "id": "egOXyObem_M6"
      }
    },
    {
      "cell_type": "code",
      "source": [
        "criterion = nn.CrossEntropyLoss()\n",
        "optimizer = optim.Adam(net.parameters(), lr=0.001, weight_decay=0.0001)"
      ],
      "metadata": {
        "id": "eHbNWtQinGMA"
      },
      "execution_count": 6,
      "outputs": []
    },
    {
      "cell_type": "markdown",
      "source": [
        "Network training and testing:"
      ],
      "metadata": {
        "id": "gbjVLvnVKp43"
      }
    },
    {
      "cell_type": "code",
      "source": [
        "for epoch in range(40):  # loop over the dataset multiple times\n",
        "\n",
        "    running_loss = 0.0\n",
        "    for i, data in enumerate(trainloader, 0):\n",
        "        # get the inputs; data is a list of [inputs, labels]\n",
        "        inputs, labels = data\n",
        "        inputs = inputs.to(device, non_blocking=True)\n",
        "        labels = labels.to(device, non_blocking=True)\n",
        "\n",
        "        # zero the parameter gradients\n",
        "        optimizer.zero_grad()\n",
        "\n",
        "        # forward + backward + optimize\n",
        "        outputs = net(inputs)\n",
        "        loss = criterion(outputs, labels)\n",
        "        loss.backward()\n",
        "        optimizer.step()\n",
        "\n",
        "        # print statistics\n",
        "        running_loss += loss.item()\n",
        "        if i % 20 == 19:    # print every 2000 mini-batches\n",
        "            print(f'[{epoch + 1}, {i + 1:5d}] loss: {running_loss / 20:.3f}')\n",
        "            running_loss = 0.0\n",
        "    correct = 0\n",
        "    total = 0\n",
        "    # since we're not training, we don't need to calculate the gradients for our outputs4\n",
        "    with torch.no_grad():\n",
        "        for data in testloader:\n",
        "            images, labels = data\n",
        "            images = images.to(device, non_blocking=True)\n",
        "            labels = labels.to(device, non_blocking=True)\n",
        "            # calculate outputs by running images through the network\n",
        "            outputs = net(images)\n",
        "            # the class with the highest energy is what we choose as prediction\n",
        "            _, predicted = torch.max(outputs.data, 1)\n",
        "            total += labels.size(0)\n",
        "            correct += (predicted == labels).sum().item()\n",
        "\n",
        "    print(f'Accuracy of the network on the 10000 test images: {100 * correct // total} %')\n",
        "\n",
        "print('Finished Training')"
      ],
      "metadata": {
        "id": "ihfsJ0XeJt40"
      },
      "execution_count": null,
      "outputs": []
    }
  ]
}