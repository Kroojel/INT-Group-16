{
  "nbformat": 4,
  "nbformat_minor": 0,
  "metadata": {
    "colab": {
      "name": "INT2_Neural_Network.ipynb",
      "provenance": [],
      "collapsed_sections": [],
      "include_colab_link": true
    },
    "kernelspec": {
      "name": "python3",
      "display_name": "Python 3"
    },
    "language_info": {
      "name": "python"
    }
  },
  "cells": [
    {
      "cell_type": "markdown",
      "metadata": {
        "id": "view-in-github",
        "colab_type": "text"
      },
      "source": [
        "<a href=\"https://colab.research.google.com/github/Kroojel/INT-Group-16/blob/main/INT2_Neural_Network.ipynb\" target=\"_parent\"><img src=\"https://colab.research.google.com/assets/colab-badge.svg\" alt=\"Open In Colab\"/></a>"
      ]
    },
    {
      "cell_type": "markdown",
      "source": [
        "First we need to import the classes"
      ],
      "metadata": {
        "id": "HiAVGPtWYut6"
      }
    },
    {
      "cell_type": "code",
      "execution_count": null,
      "metadata": {
        "id": "jIsNMGekXoTo"
      },
      "outputs": [],
      "source": [
        "# Pytorch Imports\n",
        "import torch\n",
        "import torch.nn as nn\n",
        "import torch.nn.functional as F\n",
        "import torch.optim as optim\n",
        "import torchvision\n",
        "\n",
        "# Data transformation imports\n",
        "from torchvision import transforms\n",
        "\n",
        "# General Libraries \n",
        "import matplotlib.pyplot as plt\n",
        "import numpy as np\n",
        "\n",
        "# Loss fucntion and optimiser imports\n",
        "import torch.optim"
      ]
    },
    {
      "cell_type": "markdown",
      "source": [
        "Loading the dataset and the ten labels \"classes\" relating to the ten classifications"
      ],
      "metadata": {
        "id": "5gUVIPaha5RA"
      }
    },
    {
      "cell_type": "code",
      "source": [
        "batchSize = 128\n",
        "\n",
        "# Taining set:\n",
        "\n",
        "trainTransform = transforms.Compose(\n",
        "    [\n",
        "     transforms.ToTensor(),                                 # Turns image into tensor\n",
        "     transforms.RandomAdjustSharpness(2, 0.5),              # 50% chance of increasing sharpness\n",
        "     transforms.RandomAdjustSharpness(0, 0.5),              # 50% chance of increasing blur\n",
        "     transforms.RandomAutocontrast(0.5),                    # 50% chance of increasing contrast\n",
        "     transforms.RandomHorizontalFlip(0.5),                  # 50% chance of flipping the image horizontally\n",
        "     transforms.Normalize((0.5, 0.5, 0.5), (0.5, 0.5, 0.5)) # Normalising the tensor\n",
        "    ]\n",
        ")\n",
        "\n",
        "trainSet = torchvision.datasets.CIFAR10(root='./data', train=True, download=True, transform=trainTransform)\n",
        "\n",
        "trainLoader = torch.utils.data.DataLoader(trainSet, batch_size=batchSize, shuffle=True, num_workers=2)\n",
        "\n",
        "# Testing set:\n",
        "\n",
        "testTransform = transforms.Compose(\n",
        "    [\n",
        "     transforms.ToTensor(),                                 # Turns image into tensor\n",
        "     transforms.Normalize((0.5, 0.5, 0.5), (0.5, 0.5, 0.5)) # Normalising the tensor\n",
        "    ]\n",
        ")\n",
        "\n",
        "testSet = torchvision.datasets.CIFAR10(root='./data', train=False, download=True, transform=testTransform)\n",
        "\n",
        "testLoader = torch.utils.data.DataLoader(testSet, batch_size=batchSize, shuffle=False, num_workers=2)\n",
        "\n",
        "classes = ('plane', 'car', 'bird', 'cat', 'deer', 'dog', 'frog', 'horse', 'ship', 'truck')"
      ],
      "metadata": {
        "id": "YbbVxwMTZq11",
        "colab": {
          "base_uri": "https://localhost:8080/"
        },
        "outputId": "9aecc1c2-c602-42a4-e965-b6b16ab2a4eb"
      },
      "execution_count": null,
      "outputs": [
        {
          "output_type": "stream",
          "name": "stdout",
          "text": [
            "Files already downloaded and verified\n",
            "Files already downloaded and verified\n"
          ]
        }
      ]
    },
    {
      "cell_type": "markdown",
      "source": [
        "Defining neural network shape:"
      ],
      "metadata": {
        "id": "ssBeeoJBj7Ra"
      }
    },
    {
      "cell_type": "code",
      "source": [
        "class Net(nn.Module):\n",
        "    def __init__(self):\n",
        "        super(Net, self).__init__()\n",
        "        \n",
        "        self.conv1 = nn.Conv2d(in_channels=3, out_channels=12, kernel_size=5, stride=1, padding=1)\n",
        "        self.bn1 = nn.BatchNorm2d(12)\n",
        "        self.conv2 = nn.Conv2d(in_channels=12, out_channels=12, kernel_size=5, stride=1, padding=1)\n",
        "        self.bn2 = nn.BatchNorm2d(12)\n",
        "        self.pool = nn.MaxPool2d(2,2)\n",
        "        self.conv4 = nn.Conv2d(in_channels=12, out_channels=24, kernel_size=5, stride=1, padding=1)\n",
        "        self.bn4 = nn.BatchNorm2d(24)\n",
        "        self.conv5 = nn.Conv2d(in_channels=24, out_channels=24, kernel_size=5, stride=1, padding=1)\n",
        "        self.bn5 = nn.BatchNorm2d(24)\n",
        "        self.fc1 = nn.Linear(2400, 50)\n",
        "        self.fc2 = nn.Linear(50, 10)\n",
        "\n",
        "    def forward(self, input):\n",
        "        output = F.relu(self.bn1(self.conv1(input)))\n",
        "        output = F.relu(self.bn2(self.conv2(output)))\n",
        "        output = self.pool(output)\n",
        "        output = F.relu(self.bn4(self.conv4(output)))\n",
        "        output = F.relu(self.bn5(self.conv5(output)))\n",
        "        output = output.view(-1, 2400)\n",
        "        output = self.fc1(output)\n",
        "        output = self.fc2(output)\n",
        "        return output\n",
        "\n",
        "\n",
        "net = Net()"
      ],
      "metadata": {
        "id": "Hr2CgMWwj5Oo"
      },
      "execution_count": null,
      "outputs": []
    },
    {
      "cell_type": "markdown",
      "source": [
        "Define optimiser and loss function"
      ],
      "metadata": {
        "id": "egOXyObem_M6"
      }
    },
    {
      "cell_type": "code",
      "source": [
        ""
      ],
      "metadata": {
        "id": "eHbNWtQinGMA"
      },
      "execution_count": null,
      "outputs": []
    }
  ]
}