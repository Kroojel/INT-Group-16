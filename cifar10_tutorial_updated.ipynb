{
  "cells": [
    {
      "cell_type": "code",
      "execution_count": null,
      "metadata": {
        "id": "tV3rm76jYiZb"
      },
      "outputs": [],
      "source": [
        "%matplotlib inline"
      ]
    },
    {
      "cell_type": "markdown",
      "metadata": {
        "id": "_gNK6DJUYiZh"
      },
      "source": [
        "\n",
        "Training a Classifier\n",
        "=====================\n",
        "\n",
        "This is it. You have seen how to define neural networks, compute loss and make\n",
        "updates to the weights of the network.\n",
        "\n",
        "Now you might be thinking,\n",
        "\n",
        "What about data?\n",
        "----------------\n",
        "\n",
        "Generally, when you have to deal with image, text, audio or video data,\n",
        "you can use standard python packages that load data into a numpy array.\n",
        "Then you can convert this array into a ``torch.*Tensor``.\n",
        "\n",
        "-  For images, packages such as Pillow, OpenCV are useful\n",
        "-  For audio, packages such as scipy and librosa\n",
        "-  For text, either raw Python or Cython based loading, or NLTK and\n",
        "   SpaCy are useful\n",
        "\n",
        "Specifically for vision, we have created a package called\n",
        "``torchvision``, that has data loaders for common datasets such as\n",
        "ImageNet, CIFAR10, MNIST, etc. and data transformers for images, viz.,\n",
        "``torchvision.datasets`` and ``torch.utils.data.DataLoader``.\n",
        "\n",
        "This provides a huge convenience and avoids writing boilerplate code.\n",
        "\n",
        "For this tutorial, we will use the CIFAR10 dataset.\n",
        "It has the classes: ‘airplane’, ‘automobile’, ‘bird’, ‘cat’, ‘deer’,\n",
        "‘dog’, ‘frog’, ‘horse’, ‘ship’, ‘truck’. The images in CIFAR-10 are of\n",
        "size 3x32x32, i.e. 3-channel color images of 32x32 pixels in size.\n",
        "\n",
        ".. figure:: /_static/img/cifar10.png\n",
        "   :alt: cifar10\n",
        "\n",
        "   cifar10\n",
        "\n",
        "\n",
        "Training an image classifier\n",
        "----------------------------\n",
        "\n",
        "We will do the following steps in order:\n",
        "\n",
        "1. Load and normalize the CIFAR10 training and test datasets using\n",
        "   ``torchvision``\n",
        "2. Define a Convolutional Neural Network\n",
        "3. Define a loss function\n",
        "4. Train the network on the training data\n",
        "5. Test the network on the test data\n",
        "\n",
        "1. Load and normalize CIFAR10\n",
        "^^^^^^^^^^^^^^^^^^^^^^^^^^^^^\n",
        "\n",
        "Using ``torchvision``, it’s extremely easy to load CIFAR10.\n"
      ]
    },
    {
      "cell_type": "code",
      "execution_count": null,
      "metadata": {
        "id": "F4qYSn3oYiZm"
      },
      "outputs": [],
      "source": [
        "import torch\n",
        "import torchvision\n",
        "import torchvision.transforms as transforms"
      ]
    },
    {
      "cell_type": "markdown",
      "metadata": {
        "id": "W99ImByNYiZn"
      },
      "source": [
        "The output of torchvision datasets are PILImage images of range [0, 1].\n",
        "We transform them to Tensors of normalized range [-1, 1].\n",
        "\n"
      ]
    },
    {
      "cell_type": "markdown",
      "metadata": {
        "id": "22dI9X68YiZo"
      },
      "source": [
        "<div class=\"alert alert-info\"><h4>Note</h4><p>If running on Windows and you get a BrokenPipeError, try setting\n",
        "    the num_worker of torch.utils.data.DataLoader() to 0.</p></div>\n",
        "\n"
      ]
    },
    {
      "cell_type": "code",
      "execution_count": null,
      "metadata": {
        "colab": {
          "base_uri": "https://localhost:8080/"
        },
        "id": "UCaQnWN8YiZp",
        "outputId": "e36b6cda-45e4-4928-a326-8f83f3f20875"
      },
      "outputs": [
        {
          "output_type": "stream",
          "name": "stdout",
          "text": [
            "Files already downloaded and verified\n",
            "Files already downloaded and verified\n"
          ]
        }
      ],
      "source": [
        "transform = transforms.Compose(\n",
        "    [transforms.ToTensor(),\n",
        "     transforms.Normalize((0.5, 0.5, 0.5), (0.5, 0.5, 0.5))])\n",
        "\n",
        "batch_size = 4\n",
        "\n",
        "trainset = torchvision.datasets.CIFAR10(root='./data', train=True,\n",
        "                                        download=True, transform=transform)\n",
        "trainloader = torch.utils.data.DataLoader(trainset, batch_size=batch_size,\n",
        "                                          shuffle=True, num_workers=2)\n",
        "\n",
        "testset = torchvision.datasets.CIFAR10(root='./data', train=False,\n",
        "                                       download=True, transform=transform)\n",
        "testloader = torch.utils.data.DataLoader(testset, batch_size=batch_size,\n",
        "                                         shuffle=False, num_workers=2)\n",
        "\n",
        "classes = ('plane', 'car', 'bird', 'cat',\n",
        "           'deer', 'dog', 'frog', 'horse', 'ship', 'truck')"
      ]
    },
    {
      "cell_type": "markdown",
      "metadata": {
        "id": "j0iggaEpYiZr"
      },
      "source": [
        "Let us show some of the training images, for fun.\n",
        "\n"
      ]
    },
    {
      "cell_type": "code",
      "execution_count": null,
      "metadata": {
        "colab": {
          "base_uri": "https://localhost:8080/",
          "height": 155
        },
        "id": "sc_LpdESYiZt",
        "outputId": "a86e62b0-fcf5-4ff1-93fd-931fd384cd87"
      },
      "outputs": [
        {
          "output_type": "display_data",
          "data": {
            "text/plain": [
              "<Figure size 432x288 with 1 Axes>"
            ],
            "image/png": "[encoded data removed]"
          },
          "metadata": {
            "needs_background": "light"
          }
        },
        {
          "output_type": "stream",
          "name": "stdout",
          "text": [
            "cat   car   plane horse\n"
          ]
        }
      ],
      "source": [
        "import matplotlib.pyplot as plt\n",
        "import numpy as np\n",
        "\n",
        "# functions to show an image\n",
        "\n",
        "\n",
        "def imshow(img):\n",
        "    img = img / 2 + 0.5     # unnormalize\n",
        "    npimg = img.numpy()\n",
        "    plt.imshow(np.transpose(npimg, (1, 2, 0)))\n",
        "    plt.show()\n",
        "\n",
        "\n",
        "# get some random training images\n",
        "dataiter = iter(trainloader)\n",
        "images, labels = dataiter.next()\n",
        "\n",
        "# show images\n",
        "imshow(torchvision.utils.make_grid(images))\n",
        "# print labels\n",
        "print(' '.join(f'{classes[labels[j]]:5s}' for j in range(batch_size)))"
      ]
    },
    {
      "cell_type": "markdown",
      "metadata": {
        "id": "lqnd9i8JYiZw"
      },
      "source": [
        "2. Define a Convolutional Neural Network\n",
        "^^^^^^^^^^^^^^^^^^^^^^^^^^^^^^^^^^^^^^\n",
        "Copy the neural network from the Neural Networks section before and modify it to\n",
        "take 3-channel images (instead of 1-channel images as it was defined).\n",
        "\n"
      ]
    },
    {
      "cell_type": "code",
      "execution_count": null,
      "metadata": {
        "id": "cgHpbU4KYiZx"
      },
      "outputs": [],
      "source": [
        "import torch.nn as nn\n",
        "import torch.nn.functional as F\n",
        "\n",
        "\n",
        "class Net(nn.Module):\n",
        "    def __init__(self):\n",
        "        super(Net, self).__init__()\n",
        "        \n",
        "        self.conv1 = nn.Conv2d(in_channels=3, out_channels=12, kernel_size=5, stride=1, padding=1)\n",
        "        self.bn1 = nn.BatchNorm2d(12)\n",
        "        self.conv2 = nn.Conv2d(in_channels=12, out_channels=12, kernel_size=5, stride=1, padding=1)\n",
        "        self.bn2 = nn.BatchNorm2d(12)\n",
        "        self.pool = nn.MaxPool2d(2,2)\n",
        "        self.conv4 = nn.Conv2d(in_channels=12, out_channels=24, kernel_size=5, stride=1, padding=1)\n",
        "        self.bn4 = nn.BatchNorm2d(24)\n",
        "        self.conv5 = nn.Conv2d(in_channels=24, out_channels=24, kernel_size=5, stride=1, padding=1)\n",
        "        self.bn5 = nn.BatchNorm2d(24)\n",
        "        self.conv6 = nn.Conv2d(in_channels=24, out_channels=24, kernel_size=5, stride=1, padding=1)\n",
        "        self.bn6 = nn.BatchNorm2d(24)\n",
        "        self.conv7 = nn.Conv2d(in_channels=24, out_channels=24, kernel_size=5, stride=1, padding=1)\n",
        "        self.bn7 = nn.BatchNorm2d(24)\n",
        "        self.conv8 = nn.Conv2d(in_channels=24, out_channels=24, kernel_size=5, stride=1, padding=1)\n",
        "        self.bn8 = nn.BatchNorm2d(24)\n",
        "        self.conv9 = nn.Conv2d(in_channels=24, out_channels=24, kernel_size=5, stride=1, padding=1)\n",
        "        self.bn9 = nn.BatchNorm2d(24)\n",
        "        self.fc1 = nn.Linear(96, 10)\n",
        "\n",
        "    def forward(self, input):\n",
        "        output = F.relu(self.bn1(self.conv1(input)))      \n",
        "        output = F.relu(self.bn2(self.conv2(output)))     \n",
        "        output = self.pool(output)                        \n",
        "        output = F.relu(self.bn4(self.conv4(output)))     \n",
        "        output = F.relu(self.bn5(self.conv5(output)))     \n",
        "        output = F.relu(self.bn6(self.conv5(output)))    \n",
        "        output = F.relu(self.bn7(self.conv5(output)))    \n",
        "        output = F.relu(self.bn8(self.conv5(output)))    \n",
        "        output = F.relu(self.bn9(self.conv5(output)))    \n",
        "        output = output.view(-1, 96)\n",
        "        output = self.fc1(output)\n",
        "\n",
        "        return output\n",
        "\n",
        "\n",
        "net = Net()"
      ]
    },
    {
      "cell_type": "markdown",
      "metadata": {
        "id": "hlRuTDuKYiZz"
      },
      "source": [
        "3. Define a Loss function and optimizer\n",
        "^^^^^^^^^^^^^^^^^^^^^^^^^^^^^^^^^^^^^^^\n",
        "Let's use a Classification Cross-Entropy loss and SGD with momentum.\n",
        "\n"
      ]
    },
    {
      "cell_type": "code",
      "execution_count": null,
      "metadata": {
        "id": "phb_edAUYiZz"
      },
      "outputs": [],
      "source": [
        "import torch.optim as optim\n",
        "\n",
        "criterion = nn.CrossEntropyLoss()\n",
        "optimizer = optim.Adam(net.parameters(), lr=0.001, weight_decay=0.0001) # taken from https://docs.microsoft.com/en-us/windows/ai/windows-ml/tutorials/pytorch-train-model"
      ]
    },
    {
      "cell_type": "code",
      "execution_count": null,
      "metadata": {
        "colab": {
          "base_uri": "https://localhost:8080/"
        },
        "id": "7CQJA1KNYiZ0",
        "outputId": "1795a68f-0239-4fed-b234-2b16493f23d3"
      },
      "outputs": [
        {
          "output_type": "execute_result",
          "data": {
            "text/plain": [
              "<generator object Module.parameters at 0x7f7f4ec168d0>"
            ]
          },
          "metadata": {},
          "execution_count": 7
        }
      ],
      "source": [
        "net.parameters()"
      ]
    },
    {
      "cell_type": "markdown",
      "metadata": {
        "id": "JDJkBcKiYiZ1"
      },
      "source": [
        "4. Train the network\n",
        "^^^^^^^^^^^^^^^^^^^^\n",
        "\n",
        "This is when things start to get interesting.\n",
        "We simply have to loop over our data iterator, and feed the inputs to the\n",
        "network and optimize.\n",
        "\n"
      ]
    },
    {
      "cell_type": "code",
      "execution_count": null,
      "metadata": {
        "colab": {
          "base_uri": "https://localhost:8080/"
        },
        "id": "Yq-sKbuuYiZ2",
        "outputId": "306eaace-0dff-498f-8dea-01e312d07250"
      },
      "outputs": [
        {
          "output_type": "stream",
          "name": "stdout",
          "text": [
            "[1,  2000] loss: 2.082\n",
            "[1,  4000] loss: 1.882\n",
            "[1,  6000] loss: 1.774\n",
            "[1,  8000] loss: 1.662\n",
            "[1, 10000] loss: 1.592\n",
            "[1, 12000] loss: 1.504\n",
            "Accuracy of the network on the 10000 test images: 46 %\n",
            "[2,  2000] loss: 1.436\n",
            "[2,  4000] loss: 1.365\n",
            "[2,  6000] loss: 1.374\n",
            "[2,  8000] loss: 1.301\n",
            "[2, 10000] loss: 1.276\n",
            "[2, 12000] loss: 1.252\n",
            "Accuracy of the network on the 10000 test images: 55 %\n",
            "[3,  2000] loss: 1.227\n",
            "[3,  4000] loss: 1.194\n",
            "[3,  6000] loss: 1.207\n",
            "[3,  8000] loss: 1.169\n",
            "[3, 10000] loss: 1.185\n",
            "[3, 12000] loss: 1.160\n",
            "Accuracy of the network on the 10000 test images: 60 %\n",
            "[4,  2000] loss: 1.092\n",
            "[4,  4000] loss: 1.108\n",
            "[4,  6000] loss: 1.099\n",
            "[4,  8000] loss: 1.107\n",
            "[4, 10000] loss: 1.086\n",
            "[4, 12000] loss: 1.089\n",
            "Accuracy of the network on the 10000 test images: 60 %\n",
            "[5,  2000] loss: 1.034\n",
            "[5,  4000] loss: 1.028\n",
            "[5,  6000] loss: 1.042\n",
            "[5,  8000] loss: 1.027\n",
            "[5, 10000] loss: 1.046\n",
            "[5, 12000] loss: 1.011\n",
            "Accuracy of the network on the 10000 test images: 62 %\n",
            "[6,  2000] loss: 0.994\n",
            "[6,  4000] loss: 0.997\n",
            "[6,  6000] loss: 1.002\n",
            "[6,  8000] loss: 0.988\n",
            "[6, 10000] loss: 0.975\n",
            "[6, 12000] loss: 0.989\n",
            "Accuracy of the network on the 10000 test images: 63 %\n",
            "[7,  2000] loss: 0.975\n",
            "[7,  4000] loss: 0.948\n",
            "[7,  6000] loss: 0.952\n",
            "[7,  8000] loss: 0.952\n",
            "[7, 10000] loss: 0.968\n",
            "[7, 12000] loss: 0.950\n",
            "Accuracy of the network on the 10000 test images: 64 %\n",
            "[8,  2000] loss: 0.924\n",
            "[8,  4000] loss: 0.945\n",
            "[8,  6000] loss: 0.925\n",
            "[8,  8000] loss: 0.936\n",
            "[8, 10000] loss: 0.944\n",
            "[8, 12000] loss: 0.922\n",
            "Accuracy of the network on the 10000 test images: 66 %\n",
            "[9,  2000] loss: 0.894\n",
            "[9,  4000] loss: 0.911\n",
            "[9,  6000] loss: 0.910\n",
            "[9,  8000] loss: 0.928\n",
            "[9, 10000] loss: 0.922\n",
            "[9, 12000] loss: 0.905\n",
            "Accuracy of the network on the 10000 test images: 66 %\n",
            "[10,  2000] loss: 0.875\n",
            "[10,  4000] loss: 0.886\n",
            "[10,  6000] loss: 0.903\n",
            "[10,  8000] loss: 0.908\n",
            "[10, 10000] loss: 0.898\n",
            "[10, 12000] loss: 0.891\n",
            "Accuracy of the network on the 10000 test images: 66 %\n",
            "[11,  2000] loss: 0.866\n",
            "[11,  4000] loss: 0.879\n",
            "[11,  6000] loss: 0.872\n",
            "[11,  8000] loss: 0.867\n",
            "[11, 10000] loss: 0.885\n",
            "[11, 12000] loss: 0.883\n",
            "Accuracy of the network on the 10000 test images: 66 %\n",
            "[12,  2000] loss: 0.846\n",
            "[12,  4000] loss: 0.856\n",
            "[12,  6000] loss: 0.865\n",
            "[12,  8000] loss: 0.867\n",
            "[12, 10000] loss: 0.847\n",
            "[12, 12000] loss: 0.874\n",
            "Accuracy of the network on the 10000 test images: 66 %\n",
            "[13,  2000] loss: 0.842\n",
            "[13,  4000] loss: 0.851\n",
            "[13,  6000] loss: 0.831\n",
            "[13,  8000] loss: 0.865\n",
            "[13, 10000] loss: 0.850\n",
            "[13, 12000] loss: 0.834\n",
            "Accuracy of the network on the 10000 test images: 66 %\n",
            "[14,  2000] loss: 0.824\n",
            "[14,  4000] loss: 0.821\n",
            "[14,  6000] loss: 0.834\n",
            "[14,  8000] loss: 0.852\n",
            "[14, 10000] loss: 0.847\n",
            "[14, 12000] loss: 0.854\n",
            "Accuracy of the network on the 10000 test images: 68 %\n",
            "[15,  2000] loss: 0.829\n",
            "[15,  4000] loss: 0.825\n",
            "[15,  6000] loss: 0.823\n",
            "[15,  8000] loss: 0.827\n",
            "[15, 10000] loss: 0.817\n",
            "[15, 12000] loss: 0.838\n",
            "Accuracy of the network on the 10000 test images: 68 %\n",
            "[16,  2000] loss: 0.802\n",
            "[16,  4000] loss: 0.794\n",
            "[16,  6000] loss: 0.838\n",
            "[16,  8000] loss: 0.829\n",
            "[16, 10000] loss: 0.819\n",
            "[16, 12000] loss: 0.821\n",
            "Accuracy of the network on the 10000 test images: 68 %\n",
            "[17,  2000] loss: 0.787\n",
            "[17,  4000] loss: 0.814\n",
            "[17,  6000] loss: 0.802\n",
            "[17,  8000] loss: 0.811\n",
            "[17, 10000] loss: 0.824\n",
            "[17, 12000] loss: 0.834\n",
            "Accuracy of the network on the 10000 test images: 68 %\n",
            "[18,  2000] loss: 0.774\n",
            "[18,  4000] loss: 0.791\n",
            "[18,  6000] loss: 0.814\n",
            "[18,  8000] loss: 0.805\n",
            "[18, 10000] loss: 0.821\n",
            "[18, 12000] loss: 0.824\n",
            "Accuracy of the network on the 10000 test images: 68 %\n",
            "[19,  2000] loss: 0.795\n",
            "[19,  4000] loss: 0.783\n",
            "[19,  6000] loss: 0.816\n",
            "[19,  8000] loss: 0.786\n",
            "[19, 10000] loss: 0.786\n",
            "[19, 12000] loss: 0.792\n",
            "Accuracy of the network on the 10000 test images: 69 %\n",
            "[20,  2000] loss: 0.781\n",
            "[20,  4000] loss: 0.798\n",
            "[20,  6000] loss: 0.792\n",
            "[20,  8000] loss: 0.783\n",
            "[20, 10000] loss: 0.793\n",
            "[20, 12000] loss: 0.796\n",
            "Accuracy of the network on the 10000 test images: 68 %\n",
            "[21,  2000] loss: 0.767\n",
            "[21,  4000] loss: 0.775\n",
            "[21,  6000] loss: 0.793\n",
            "[21,  8000] loss: 0.778\n",
            "[21, 10000] loss: 0.789\n",
            "[21, 12000] loss: 0.793\n",
            "Accuracy of the network on the 10000 test images: 68 %\n",
            "[22,  2000] loss: 0.770\n",
            "[22,  4000] loss: 0.771\n",
            "[22,  6000] loss: 0.781\n",
            "[22,  8000] loss: 0.789\n",
            "[22, 10000] loss: 0.779\n",
            "[22, 12000] loss: 0.770\n",
            "Accuracy of the network on the 10000 test images: 69 %\n",
            "[23,  2000] loss: 0.747\n",
            "[23,  4000] loss: 0.746\n",
            "[23,  6000] loss: 0.762\n",
            "[23,  8000] loss: 0.782\n",
            "[23, 10000] loss: 0.790\n",
            "[23, 12000] loss: 0.778\n",
            "Accuracy of the network on the 10000 test images: 69 %\n",
            "[24,  2000] loss: 0.735\n",
            "[24,  4000] loss: 0.758\n",
            "[24,  6000] loss: 0.742\n",
            "[24,  8000] loss: 0.763\n",
            "[24, 10000] loss: 0.795\n",
            "[24, 12000] loss: 0.779\n",
            "Accuracy of the network on the 10000 test images: 69 %\n",
            "[25,  2000] loss: 0.750\n",
            "[25,  4000] loss: 0.736\n",
            "[25,  6000] loss: 0.766\n",
            "[25,  8000] loss: 0.770\n",
            "[25, 10000] loss: 0.760\n",
            "[25, 12000] loss: 0.765\n",
            "Accuracy of the network on the 10000 test images: 68 %\n",
            "[26,  2000] loss: 0.737\n",
            "[26,  4000] loss: 0.745\n",
            "[26,  6000] loss: 0.764\n",
            "[26,  8000] loss: 0.753\n",
            "[26, 10000] loss: 0.773\n",
            "[26, 12000] loss: 0.770\n",
            "Accuracy of the network on the 10000 test images: 68 %\n",
            "[27,  2000] loss: 0.738\n",
            "[27,  4000] loss: 0.742\n",
            "[27,  6000] loss: 0.770\n",
            "[27,  8000] loss: 0.754\n",
            "[27, 10000] loss: 0.741\n",
            "[27, 12000] loss: 0.767\n",
            "Accuracy of the network on the 10000 test images: 68 %\n",
            "[28,  2000] loss: 0.728\n",
            "[28,  4000] loss: 0.732\n",
            "[28,  6000] loss: 0.752\n",
            "[28,  8000] loss: 0.746\n",
            "[28, 10000] loss: 0.759\n",
            "[28, 12000] loss: 0.764\n",
            "Accuracy of the network on the 10000 test images: 69 %\n",
            "[29,  2000] loss: 0.739\n",
            "[29,  4000] loss: 0.737\n",
            "[29,  6000] loss: 0.755\n",
            "[29,  8000] loss: 0.764\n",
            "[29, 10000] loss: 0.718\n",
            "[29, 12000] loss: 0.744\n",
            "Accuracy of the network on the 10000 test images: 68 %\n",
            "[30,  2000] loss: 0.712\n",
            "[30,  4000] loss: 0.734\n",
            "[30,  6000] loss: 0.731\n",
            "[30,  8000] loss: 0.754\n",
            "[30, 10000] loss: 0.760\n",
            "[30, 12000] loss: 0.748\n",
            "Accuracy of the network on the 10000 test images: 69 %\n",
            "[31,  2000] loss: 0.706\n",
            "[31,  4000] loss: 0.734\n",
            "[31,  6000] loss: 0.736\n",
            "[31,  8000] loss: 0.746\n",
            "[31, 10000] loss: 0.726\n",
            "[31, 12000] loss: 0.764\n",
            "Accuracy of the network on the 10000 test images: 68 %\n",
            "[32,  2000] loss: 0.698\n",
            "[32,  4000] loss: 0.726\n",
            "[32,  6000] loss: 0.728\n",
            "[32,  8000] loss: 0.750\n",
            "[32, 10000] loss: 0.726\n",
            "[32, 12000] loss: 0.765\n"
          ]
        }
      ],
      "source": [
        "for epoch in range(40):  # loop over the dataset multiple times\n",
        "\n",
        "    running_loss = 0.0\n",
        "    for i, data in enumerate(trainloader, 0):\n",
        "        # get the inputs; data is a list of [inputs, labels]\n",
        "        inputs, labels = data\n",
        "\n",
        "        # zero the parameter gradients\n",
        "        optimizer.zero_grad()\n",
        "\n",
        "        # forward + backward + optimize\n",
        "        outputs = net(inputs)\n",
        "        loss = criterion(outputs, labels)\n",
        "        loss.backward()\n",
        "        optimizer.step()\n",
        "\n",
        "        # print statistics\n",
        "        running_loss += loss.item()\n",
        "        if i % 2000 == 1999:    # print every 2000 mini-batches\n",
        "            print(f'[{epoch + 1}, {i + 1:5d}] loss: {running_loss / 2000:.3f}')\n",
        "            running_loss = 0.0\n",
        "    correct = 0\n",
        "    total = 0\n",
        "    # since we're not training, we don't need to calculate the gradients for our outputs\n",
        "    with torch.no_grad():\n",
        "        for data in testloader:\n",
        "            images, labels = data\n",
        "            # calculate outputs by running images through the network\n",
        "            outputs = net(images)\n",
        "            # the class with the highest energy is what we choose as prediction\n",
        "            _, predicted = torch.max(outputs.data, 1)\n",
        "            total += labels.size(0)\n",
        "            correct += (predicted == labels).sum().item()\n",
        "\n",
        "    print(f'Accuracy of the network on the 10000 test images: {100 * correct // total} %')\n",
        "\n",
        "print('Finished Training')"
      ]
    },
    {
      "cell_type": "markdown",
      "metadata": {
        "id": "P5hlFo0pYiZ2"
      },
      "source": [
        "Let's quickly save our trained model:\n",
        "\n"
      ]
    },
    {
      "cell_type": "code",
      "execution_count": null,
      "metadata": {
        "id": "Uq1qcTDZYiZ3"
      },
      "outputs": [],
      "source": [
        "PATH = './cifar_net.pth'\n",
        "torch.save(net.state_dict(), PATH)"
      ]
    },
    {
      "cell_type": "markdown",
      "metadata": {
        "id": "nDv0h3UcYiZ3"
      },
      "source": [
        "See `here <https://pytorch.org/docs/stable/notes/serialization.html>`_\n",
        "for more details on saving PyTorch models.\n",
        "\n",
        "5. Test the network on the test data\n",
        "^^^^^^^^^^^^^^^^^^^^^^^^^^^^^^^^^^^^\n",
        "\n",
        "We have trained the network for 2 passes over the training dataset.\n",
        "But we need to check if the network has learnt anything at all.\n",
        "\n",
        "We will check this by predicting the class label that the neural network\n",
        "outputs, and checking it against the ground-truth. If the prediction is\n",
        "correct, we add the sample to the list of correct predictions.\n",
        "\n",
        "Okay, first step. Let us display an image from the test set to get familiar.\n",
        "\n"
      ]
    },
    {
      "cell_type": "code",
      "execution_count": null,
      "metadata": {
        "id": "okGl6PKhYiZ3"
      },
      "outputs": [],
      "source": [
        "dataiter = iter(testloader)\n",
        "images, labels = dataiter.next()\n",
        "\n",
        "# print images\n",
        "imshow(torchvision.utils.make_grid(images))\n",
        "print('GroundTruth: ', ' '.join(f'{classes[labels[j]]:5s}' for j in range(4)))"
      ]
    },
    {
      "cell_type": "markdown",
      "metadata": {
        "id": "u-B0_z5YYiZ4"
      },
      "source": [
        "Next, let's load back in our saved model (note: saving and re-loading the model\n",
        "wasn't necessary here, we only did it to illustrate how to do so):\n",
        "\n"
      ]
    },
    {
      "cell_type": "code",
      "execution_count": null,
      "metadata": {
        "id": "OwcT67sdYiZ5"
      },
      "outputs": [],
      "source": [
        "net = Net()\n",
        "net.load_state_dict(torch.load(PATH))"
      ]
    },
    {
      "cell_type": "markdown",
      "metadata": {
        "id": "dTMIoCbtYiZ5"
      },
      "source": [
        "Okay, now let us see what the neural network thinks these examples above are:\n",
        "\n"
      ]
    },
    {
      "cell_type": "code",
      "execution_count": null,
      "metadata": {
        "id": "RZ-n8lcyYiZ5"
      },
      "outputs": [],
      "source": [
        "outputs = net(images)"
      ]
    },
    {
      "cell_type": "markdown",
      "metadata": {
        "id": "8o4MpSerYiZ6"
      },
      "source": [
        "The outputs are energies for the 10 classes.\n",
        "The higher the energy for a class, the more the network\n",
        "thinks that the image is of the particular class.\n",
        "So, let's get the index of the highest energy:\n",
        "\n"
      ]
    },
    {
      "cell_type": "code",
      "execution_count": null,
      "metadata": {
        "id": "XlzfghW8YiZ6"
      },
      "outputs": [],
      "source": [
        "_, predicted = torch.max(outputs, 1)\n",
        "\n",
        "print('Predicted: ', ' '.join(f'{classes[predicted[j]]:5s}'\n",
        "                              for j in range(4)))"
      ]
    },
    {
      "cell_type": "markdown",
      "metadata": {
        "id": "_6GgjEbjYiZ7"
      },
      "source": [
        "The results seem pretty good.\n",
        "\n",
        "Let us look at how the network performs on the whole dataset.\n",
        "\n"
      ]
    },
    {
      "cell_type": "code",
      "execution_count": null,
      "metadata": {
        "id": "4DSMLkcaYiZ7"
      },
      "outputs": [],
      "source": [
        "correct = 0\n",
        "total = 0\n",
        "# since we're not training, we don't need to calculate the gradients for our outputs\n",
        "with torch.no_grad():\n",
        "    for data in testloader:\n",
        "        images, labels = data\n",
        "        # calculate outputs by running images through the network\n",
        "        outputs = net(images)\n",
        "        # the class with the highest energy is what we choose as prediction\n",
        "        _, predicted = torch.max(outputs.data, 1)\n",
        "        total += labels.size(0)\n",
        "        correct += (predicted == labels).sum().item()\n",
        "\n",
        "print(f'Accuracy of the network on the 10000 test images: {100 * correct // total} %')"
      ]
    },
    {
      "cell_type": "markdown",
      "metadata": {
        "id": "BGNWvpHYYiZ8"
      },
      "source": [
        "That looks way better than chance, which is 10% accuracy (randomly picking\n",
        "a class out of 10 classes).\n",
        "Seems like the network learnt something.\n",
        "\n",
        "Hmmm, what are the classes that performed well, and the classes that did\n",
        "not perform well:\n",
        "\n"
      ]
    },
    {
      "cell_type": "code",
      "execution_count": null,
      "metadata": {
        "id": "GHKjXUhoYiZ8"
      },
      "outputs": [],
      "source": [
        "# prepare to count predictions for each class\n",
        "correct_pred = {classname: 0 for classname in classes}\n",
        "total_pred = {classname: 0 for classname in classes}\n",
        "\n",
        "# again no gradients needed\n",
        "with torch.no_grad():\n",
        "    for data in testloader:\n",
        "        images, labels = data\n",
        "        outputs = net(images)\n",
        "        _, predictions = torch.max(outputs, 1)\n",
        "        # collect the correct predictions for each class\n",
        "        for label, prediction in zip(labels, predictions):\n",
        "            if label == prediction:\n",
        "                correct_pred[classes[label]] += 1\n",
        "            total_pred[classes[label]] += 1\n",
        "\n",
        "\n",
        "# print accuracy for each class\n",
        "for classname, correct_count in correct_pred.items():\n",
        "    accuracy = 100 * float(correct_count) / total_pred[classname]\n",
        "    print(f'Accuracy for class: {classname:5s} is {accuracy:.1f} %')"
      ]
    },
    {
      "cell_type": "markdown",
      "metadata": {
        "id": "HnJYKvHqYiZ8"
      },
      "source": [
        "Okay, so what next?\n",
        "\n",
        "How do we run these neural networks on the GPU?\n",
        "\n",
        "Training on GPU\n",
        "----------------\n",
        "Just like how you transfer a Tensor onto the GPU, you transfer the neural\n",
        "net onto the GPU.\n",
        "\n",
        "Let's first define our device as the first visible cuda device if we have\n",
        "CUDA available:\n",
        "\n"
      ]
    },
    {
      "cell_type": "code",
      "execution_count": null,
      "metadata": {
        "id": "YIdx1IWGYiZ9"
      },
      "outputs": [],
      "source": [
        "device = torch.device('cuda:0' if torch.cuda.is_available() else 'cpu')\n",
        "\n",
        "# Assuming that we are on a CUDA machine, this should print a CUDA device:\n",
        "\n",
        "print(device)"
      ]
    },
    {
      "cell_type": "markdown",
      "metadata": {
        "id": "dOfu_uoMYiZ9"
      },
      "source": [
        "The rest of this section assumes that ``device`` is a CUDA device.\n",
        "\n",
        "Then these methods will recursively go over all modules and convert their\n",
        "parameters and buffers to CUDA tensors:\n",
        "\n",
        ".. code:: python\n",
        "\n",
        "    net.to(device)\n",
        "\n",
        "\n",
        "Remember that you will have to send the inputs and targets at every step\n",
        "to the GPU too:\n",
        "\n",
        ".. code:: python\n",
        "\n",
        "        inputs, labels = data[0].to(device), data[1].to(device)\n",
        "\n",
        "Why don't I notice MASSIVE speedup compared to CPU? Because your network\n",
        "is really small.\n",
        "\n",
        "**Exercise:** Try increasing the width of your network (argument 2 of\n",
        "the first ``nn.Conv2d``, and argument 1 of the second ``nn.Conv2d`` –\n",
        "they need to be the same number), see what kind of speedup you get.\n",
        "\n",
        "**Goals achieved**:\n",
        "\n",
        "- Understanding PyTorch's Tensor library and neural networks at a high level.\n",
        "- Train a small neural network to classify images\n",
        "\n",
        "Training on multiple GPUs\n",
        "-------------------------\n",
        "If you want to see even more MASSIVE speedup using all of your GPUs,\n",
        "please check out :doc:`data_parallel_tutorial`.\n",
        "\n",
        "Where do I go next?\n",
        "-------------------\n",
        "\n",
        "-  :doc:`Train neural nets to play video games </intermediate/reinforcement_q_learning>`\n",
        "-  `Train a state-of-the-art ResNet network on imagenet`_\n",
        "-  `Train a face generator using Generative Adversarial Networks`_\n",
        "-  `Train a word-level language model using Recurrent LSTM networks`_\n",
        "-  `More examples`_\n",
        "-  `More tutorials`_\n",
        "-  `Discuss PyTorch on the Forums`_\n",
        "-  `Chat with other users on Slack`_\n",
        "\n",
        "\n"
      ]
    },
    {
      "cell_type": "code",
      "execution_count": null,
      "metadata": {
        "id": "VGov-06MYiZ-"
      },
      "outputs": [],
      "source": [
        ""
      ]
    }
  ],
  "metadata": {
    "kernelspec": {
      "display_name": "Python 3 (ipykernel)",
      "language": "python",
      "name": "python3"
    },
    "language_info": {
      "codemirror_mode": {
        "name": "ipython",
        "version": 3
      },
      "file_extension": ".py",
      "mimetype": "text/x-python",
      "name": "python",
      "nbconvert_exporter": "python",
      "pygments_lexer": "ipython3",
      "version": "3.8.3"
    },
    "colab": {
      "name": "Copy of cifar10_tutorial_updated.ipynb",
      "provenance": [],
      "collapsed_sections": []
    }
  },
  "nbformat": 4,
  "nbformat_minor": 0
}